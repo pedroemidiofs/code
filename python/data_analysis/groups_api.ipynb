{
 "cells": [
  {
   "cell_type": "markdown",
   "metadata": {
    "application/vnd.databricks.v1+cell": {
     "cellMetadata": {
      "byteLimit": 2048000,
      "rowLimit": 10000
     },
     "inputWidgets": {},
     "nuid": "35082bd6-d8d3-413d-99f5-b7bd81c11999",
     "showTitle": false,
     "title": ""
    }
   },
   "source": [
    "\n",
    "### Import Libraries"
   ]
  },
  {
   "cell_type": "code",
   "execution_count": 0,
   "metadata": {
    "application/vnd.databricks.v1+cell": {
     "cellMetadata": {
      "byteLimit": 2048000,
      "rowLimit": 10000
     },
     "inputWidgets": {},
     "nuid": "6cad2b9e-49b7-47cf-89fe-b2e9e7598fb6",
     "showTitle": false,
     "title": ""
    }
   },
   "outputs": [
    {
     "output_type": "stream",
     "name": "stdout",
     "output_type": "stream",
     "text": [
      "\u001B[43mNote: you may need to restart the kernel using dbutils.library.restartPython() to use updated packages.\u001B[0m\nCollecting msal\n  Downloading msal-1.26.0-py2.py3-none-any.whl (99 kB)\n     ━━━━━━━━━━━━━━━━━━━━━━━━━━━━━━━━━━━━━━━━ 99.0/99.0 kB 2.1 MB/s eta 0:00:00\nRequirement already satisfied: PyJWT[crypto]<3,>=1.0.0 in /usr/lib/python3/dist-packages (from msal) (2.3.0)\nRequirement already satisfied: cryptography<44,>=0.6 in /databricks/python3/lib/python3.10/site-packages (from msal) (39.0.1)\nRequirement already satisfied: requests<3,>=2.0.0 in /databricks/python3/lib/python3.10/site-packages (from msal) (2.28.1)\nRequirement already satisfied: cffi>=1.12 in /databricks/python3/lib/python3.10/site-packages (from cryptography<44,>=0.6->msal) (1.15.1)\nRequirement already satisfied: urllib3<1.27,>=1.21.1 in /databricks/python3/lib/python3.10/site-packages (from requests<3,>=2.0.0->msal) (1.26.14)\nRequirement already satisfied: charset-normalizer<3,>=2 in /databricks/python3/lib/python3.10/site-packages (from requests<3,>=2.0.0->msal) (2.0.4)\nRequirement already satisfied: idna<4,>=2.5 in /databricks/python3/lib/python3.10/site-packages (from requests<3,>=2.0.0->msal) (3.4)\nRequirement already satisfied: certifi>=2017.4.17 in /databricks/python3/lib/python3.10/site-packages (from requests<3,>=2.0.0->msal) (2022.12.7)\nRequirement already satisfied: pycparser in /databricks/python3/lib/python3.10/site-packages (from cffi>=1.12->cryptography<44,>=0.6->msal) (2.21)\nInstalling collected packages: msal\nSuccessfully installed msal-1.26.0\n\u001B[43mNote: you may need to restart the kernel using dbutils.library.restartPython() to use updated packages.\u001B[0m\n"
     ]
    }
   ],
   "source": [
    "pip install msal"
   ]
  },
  {
   "cell_type": "code",
   "execution_count": 0,
   "metadata": {
    "application/vnd.databricks.v1+cell": {
     "cellMetadata": {
      "byteLimit": 2048000,
      "rowLimit": 10000
     },
     "inputWidgets": {},
     "nuid": "b5f8a092-7ccb-4c1c-aeb0-3e9d85751bee",
     "showTitle": false,
     "title": ""
    }
   },
   "outputs": [],
   "source": [
    "# Define imports and config dictionary\n",
    "\n",
    "from pyspark.sql.functions import col, count, array, concat, lit, explode, udf, concat\n",
    "from pyspark.sql.types import StringType, ArrayType\n",
    "from pyspark.sql.types import StructType,StructField, StringType, IntegerType\n",
    "from pyspark.sql import functions as F\n",
    "from pyspark.sql import SparkSession\n",
    "\n",
    "import msal\n",
    "import requests"
   ]
  },
  {
   "cell_type": "markdown",
   "metadata": {
    "application/vnd.databricks.v1+cell": {
     "cellMetadata": {
      "byteLimit": 2048000,
      "rowLimit": 10000
     },
     "inputWidgets": {},
     "nuid": "07194703-17da-409f-b71b-e42e162fe5e8",
     "showTitle": false,
     "title": ""
    }
   },
   "source": [
    "\n",
    "### Read and transform Dataverse tables from datalake"
   ]
  },
  {
   "cell_type": "code",
   "execution_count": 0,
   "metadata": {
    "application/vnd.databricks.v1+cell": {
     "cellMetadata": {
      "byteLimit": 2048000,
      "rowLimit": 10000
     },
     "inputWidgets": {},
     "nuid": "ec5ada17-8da0-42be-8d78-d2faa4d5eaf2",
     "showTitle": false,
     "title": ""
    }
   },
   "outputs": [],
   "source": [
    "powerappsuserrole_response = (spark.read\n",
    "  .format(\"csv\")\n",
    "  .option(\"header\",True)\n",
    "  .load(\"/mnt/datalake/datalakepowerplatform/bronze/ghq_guardianangel_prod/admin_powerplatformuserrole\")\n",
    ")"
   ]
  },
  {
   "cell_type": "code",
   "execution_count": 0,
   "metadata": {
    "application/vnd.databricks.v1+cell": {
     "cellMetadata": {
      "byteLimit": 2048000,
      "rowLimit": 10000
     },
     "inputWidgets": {},
     "nuid": "7f167c63-42a7-4fbc-80e8-ebf511daafe2",
     "showTitle": false,
     "title": ""
    }
   },
   "outputs": [],
   "source": [
    "powerappsuserrole = powerappsuserrole_response.select('admin_app','admin_powerplatformuser')"
   ]
  },
  {
   "cell_type": "code",
   "execution_count": 0,
   "metadata": {
    "application/vnd.databricks.v1+cell": {
     "cellMetadata": {
      "byteLimit": 2048000,
      "rowLimit": 10000
     },
     "inputWidgets": {},
     "nuid": "6e467fb6-e98d-4072-8c81-386872584222",
     "showTitle": false,
     "title": ""
    }
   },
   "outputs": [],
   "source": [
    "powerappsuser_response = (spark.read\n",
    "  .format(\"csv\")\n",
    "  .option(\"header\",True)\n",
    "  .load(\"/mnt/datalake/datalakepowerplatform/bronze/ghq_guardianangel_prod/admin_powerplatformuser\")\n",
    ")"
   ]
  },
  {
   "cell_type": "code",
   "execution_count": 0,
   "metadata": {
    "application/vnd.databricks.v1+cell": {
     "cellMetadata": {
      "byteLimit": 2048000,
      "rowLimit": 10000
     },
     "inputWidgets": {},
     "nuid": "378ea181-2138-4320-9a29-fe69f08e900e",
     "showTitle": false,
     "title": ""
    }
   },
   "outputs": [],
   "source": [
    "powerappsuser = powerappsuser_response.select('admin_powerplatformuserid','admin_type')\n",
    "\n",
    "powerappsuser_user = powerappsuser.filter(powerappsuser.admin_type == 'User')\n",
    "powerappsuser_group = powerappsuser.filter(powerappsuser.admin_type == 'Group')\n",
    "\n",
    "powerappsuser_user = powerappsuser_user.select(\n",
    "    col('admin_powerplatformuserid').alias('group'),\n",
    "    col('admin_powerplatformuserid').alias('id'),\n",
    "    lit('powerplatformuser').alias('type')\n",
    ")\n",
    "\n",
    "powerappsuser_group = powerappsuser_group.select(\n",
    "    col('admin_powerplatformuserid').alias('group'),\n",
    "    concat(lit('https://graph.microsoft.com/v1.0/groups/'),col('group'),lit('/transitiveMembers')).alias('url')\n",
    ")"
   ]
  },
  {
   "cell_type": "code",
   "execution_count": 0,
   "metadata": {
    "application/vnd.databricks.v1+cell": {
     "cellMetadata": {
      "byteLimit": 2048000,
      "rowLimit": 10000
     },
     "inputWidgets": {},
     "nuid": "1426a69d-47df-4598-85c3-49b0919b5e24",
     "showTitle": false,
     "title": ""
    }
   },
   "outputs": [],
   "source": [
    "security_group_response = (spark.read\n",
    "  .format(\"json\")\n",
    "  .load(\"/mnt/datalake/powerapps/environments/environments.json\")\n",
    ")"
   ]
  },
  {
   "cell_type": "code",
   "execution_count": 0,
   "metadata": {
    "application/vnd.databricks.v1+cell": {
     "cellMetadata": {
      "byteLimit": 2048000,
      "rowLimit": 10000
     },
     "inputWidgets": {},
     "nuid": "93902680-c14f-4864-bb6f-36a8d6dec470",
     "showTitle": false,
     "title": ""
    }
   },
   "outputs": [],
   "source": [
    "security_group_response = security_group_response.filter(security_group_response.securityGroup != \"-\")\n",
    "\n",
    "environment_group = security_group_response.select(\n",
    "    'environmentId',\n",
    "    'securityGroup'\n",
    ")\n",
    "\n",
    "security_group = security_group_response.select(\n",
    "    col('securityGroup').alias('group'),\n",
    "    concat(lit('https://graph.microsoft.com/v1.0/groups/'),col('group'),lit('/transitiveMembers')).alias('url')\n",
    ")"
   ]
  },
  {
   "cell_type": "code",
   "execution_count": 0,
   "metadata": {
    "application/vnd.databricks.v1+cell": {
     "cellMetadata": {
      "byteLimit": 2048000,
      "rowLimit": 10000
     },
     "inputWidgets": {},
     "nuid": "217b668e-5dd9-4311-bbe7-c2f9e374a6f4",
     "showTitle": false,
     "title": ""
    }
   },
   "outputs": [],
   "source": [
    "powerappsuserrole_response = (spark.read\n",
    "  .format(\"csv\")\n",
    "  .option(\"header\",True)\n",
    "  .load(\"/mnt/datalake/datalakepowerplatform/bronze/ghq_guardianangel_prod/admin_powerplatformuserrole\")\n",
    ")"
   ]
  },
  {
   "cell_type": "code",
   "execution_count": 0,
   "metadata": {
    "application/vnd.databricks.v1+cell": {
     "cellMetadata": {
      "byteLimit": 2048000,
      "rowLimit": 10000
     },
     "inputWidgets": {},
     "nuid": "f954aacc-c636-4d1b-b604-49dfa202e038",
     "showTitle": false,
     "title": ""
    }
   },
   "outputs": [],
   "source": [
    "powerappsuserrole = powerappsuserrole_response.select(\n",
    "    'admin_app',\n",
    "    col('admin_powerplatformuser').alias('group')\n",
    ")"
   ]
  },
  {
   "cell_type": "code",
   "execution_count": 0,
   "metadata": {
    "application/vnd.databricks.v1+cell": {
     "cellMetadata": {
      "byteLimit": 2048000,
      "rowLimit": 10000
     },
     "inputWidgets": {},
     "nuid": "1cc5fe2c-d471-45d9-b8ca-e705217b24b9",
     "showTitle": false,
     "title": ""
    }
   },
   "outputs": [],
   "source": [
    "admin_app_response = (spark.read\n",
    "  .format(\"csv\")\n",
    "  .option(\"header\",True)\n",
    "  .load(\"/mnt/datalake/datalakepowerplatform/bronze/ghq_guardianangel_prod/admin_app\")\n",
    ")"
   ]
  },
  {
   "cell_type": "code",
   "execution_count": 0,
   "metadata": {
    "application/vnd.databricks.v1+cell": {
     "cellMetadata": {
      "byteLimit": 2048000,
      "rowLimit": 10000
     },
     "inputWidgets": {},
     "nuid": "4db790e7-bef1-4fb2-859a-13dd6fec6ca6",
     "showTitle": false,
     "title": ""
    }
   },
   "outputs": [],
   "source": [
    "admin_app = admin_app_response.select(\n",
    "    'admin_appid',\n",
    "    'admin_appenvironmentid',\n",
    "    'admin_appidstring'\n",
    ")"
   ]
  },
  {
   "cell_type": "markdown",
   "metadata": {
    "application/vnd.databricks.v1+cell": {
     "cellMetadata": {
      "byteLimit": 2048000,
      "rowLimit": 10000
     },
     "inputWidgets": {},
     "nuid": "4cfceab9-c47b-434a-bb28-62f7e0165268",
     "showTitle": false,
     "title": ""
    }
   },
   "source": [
    "\n",
    "### Create function to make graph API call"
   ]
  },
  {
   "cell_type": "code",
   "execution_count": 0,
   "metadata": {
    "application/vnd.databricks.v1+cell": {
     "cellMetadata": {
      "byteLimit": 2048000,
      "rowLimit": 10000
     },
     "inputWidgets": {},
     "nuid": "2307e2d5-2370-4444-951d-fb10f4f1eb45",
     "showTitle": false,
     "title": ""
    }
   },
   "outputs": [],
   "source": [
    "app_id = dbutils.secrets.get(scope = 'keyvault', key = 'AUGHQITSBIid')\n",
    "app_secret = dbutils.secrets.get(scope = 'keyvault', key = 'AUGHQITSBIvalue')\n",
    "\n",
    "config = {\n",
    "  'client_id': app_id,\n",
    "  'client_secret': app_secret,\n",
    "  'authority': 'https://login.microsoftonline.com/cef04b19-7776-4a94-b89b-375c77a8f936',\n",
    "  'scope': ['https://graph.microsoft.com/.default']\n",
    "}"
   ]
  },
  {
   "cell_type": "code",
   "execution_count": 0,
   "metadata": {
    "application/vnd.databricks.v1+cell": {
     "cellMetadata": {
      "byteLimit": 2048000,
      "rowLimit": 10000
     },
     "inputWidgets": {},
     "nuid": "50b6f289-99b6-4623-85e7-650d0ddad4ab",
     "showTitle": false,
     "title": ""
    }
   },
   "outputs": [],
   "source": [
    "# Define a function that takes a 'url' parameter and executes a graph call.\n",
    "def make_graph_call(url):\n",
    "    # Crie uma instância MSAL fornecendo os parâmetros client_id, authority e client_credential\n",
    "    client = msal.ConfidentialClientApplication(\n",
    "        config['client_id'], authority=config['authority'], client_credential=config['client_secret']\n",
    "    )\n",
    "\n",
    "    # Primeiramente, tente buscar um token de acesso no cache\n",
    "    token_result = client.acquire_token_silent(config['scope'], account=None)\n",
    "\n",
    "    # Se o token não estiver disponível no cache, adquira um novo do Azure AD\n",
    "    if not token_result:\n",
    "        token_result = client.acquire_token_for_client(scopes=config['scope'])\n",
    "\n",
    "    # Se o token estiver disponível, execute a consulta no Graph\n",
    "    if 'access_token' in token_result:\n",
    "        headers = {'Authorization': 'Bearer ' + token_result['access_token']}\n",
    "        graph_results = []\n",
    "\n",
    "        while url:\n",
    "            try:\n",
    "                graph_result = requests.get(url=url, headers=headers).json()\n",
    "                # Extraia apenas o atributo 'id' de cada item em 'value'\n",
    "                graph_results.extend([item['id'] for item in graph_result.get('value', [])])\n",
    "                # Atualize a URL para a próxima página, se disponível\n",
    "                url = graph_result.get('@odata.nextLink')\n",
    "            except Exception as e:\n",
    "                print(f\"Error: {e}\")\n",
    "                break\n",
    "    else:\n",
    "        print(token_result.get('error'))\n",
    "        print(token_result.get('error_description'))\n",
    "        print(token_result.get('correlation'))\n",
    "\n",
    "    return graph_results"
   ]
  },
  {
   "cell_type": "code",
   "execution_count": 0,
   "metadata": {
    "application/vnd.databricks.v1+cell": {
     "cellMetadata": {
      "byteLimit": 2048000,
      "rowLimit": 10000
     },
     "inputWidgets": {},
     "nuid": "14b89b71-abf0-422f-9e12-71ba3c479f0a",
     "showTitle": false,
     "title": ""
    }
   },
   "outputs": [],
   "source": [
    "make_graph_call_udf = udf(make_graph_call, ArrayType(StringType()))"
   ]
  },
  {
   "cell_type": "markdown",
   "metadata": {
    "application/vnd.databricks.v1+cell": {
     "cellMetadata": {
      "byteLimit": 2048000,
      "rowLimit": 10000
     },
     "inputWidgets": {},
     "nuid": "e74572a3-1cc2-4c9a-be2c-89086cd7ffb0",
     "showTitle": false,
     "title": ""
    }
   },
   "source": [
    "\n",
    "### Apply function to dataframe rows"
   ]
  },
  {
   "cell_type": "code",
   "execution_count": 0,
   "metadata": {
    "application/vnd.databricks.v1+cell": {
     "cellMetadata": {
      "byteLimit": 2048000,
      "rowLimit": 10000
     },
     "inputWidgets": {},
     "nuid": "b3aaa0ea-313f-4f17-b5b8-057313f11366",
     "showTitle": false,
     "title": ""
    }
   },
   "outputs": [],
   "source": [
    "powerappsuser_group_expanded = powerappsuser_group.withColumn('result', make_graph_call_udf(powerappsuser_group.url))\n",
    "\n",
    "powerappsuser_group_expanded = powerappsuser_group_expanded.select(\n",
    "    'group',\n",
    "    explode('result').alias('id'),\n",
    "    lit('powerplatformuser').alias('type')\n",
    ")\n",
    "\n",
    "powerappsuser_all = powerappsuser_user.union(powerappsuser_group_expanded)"
   ]
  },
  {
   "cell_type": "code",
   "execution_count": 0,
   "metadata": {
    "application/vnd.databricks.v1+cell": {
     "cellMetadata": {
      "byteLimit": 2048000,
      "rowLimit": 10000
     },
     "inputWidgets": {},
     "nuid": "08508709-d76b-4a24-a6fb-0d4f82eb28c4",
     "showTitle": false,
     "title": ""
    }
   },
   "outputs": [],
   "source": [
    "security_group_expanded = security_group.withColumn('result', make_graph_call_udf(security_group.url))\n",
    "\n",
    "security_group_expanded = security_group_expanded.select(\n",
    "    'group',\n",
    "    explode('result').alias('id'),\n",
    "    lit('security_group').alias('type')\n",
    ")"
   ]
  },
  {
   "cell_type": "markdown",
   "metadata": {
    "application/vnd.databricks.v1+cell": {
     "cellMetadata": {
      "byteLimit": 2048000,
      "rowLimit": 10000
     },
     "inputWidgets": {},
     "nuid": "26f57aaa-c84b-45bf-bde8-87ea9d1718fb",
     "showTitle": false,
     "title": ""
    }
   },
   "source": [
    "\n",
    "### Merge tables"
   ]
  },
  {
   "cell_type": "code",
   "execution_count": 0,
   "metadata": {
    "application/vnd.databricks.v1+cell": {
     "cellMetadata": {
      "byteLimit": 2048000,
      "rowLimit": 10000
     },
     "inputWidgets": {},
     "nuid": "328662df-af0e-42dc-9451-c1599c661657",
     "showTitle": false,
     "title": ""
    }
   },
   "outputs": [],
   "source": [
    "app_secutiry_group = admin_app.join(\n",
    "    environment_group,\n",
    "    admin_app.admin_appenvironmentid == environment_group.environmentId\n",
    ")\n",
    "\n",
    "app_secutiry_group = app_secutiry_group.select(\n",
    "    col('admin_appid').alias('admin_app'),\n",
    "    col('securityGroup').alias('group')\n",
    ")\n",
    "\n",
    "app_group = powerappsuserrole.union(app_secutiry_group).distinct()"
   ]
  },
  {
   "cell_type": "code",
   "execution_count": 0,
   "metadata": {
    "application/vnd.databricks.v1+cell": {
     "cellMetadata": {
      "byteLimit": 2048000,
      "rowLimit": 10000
     },
     "inputWidgets": {},
     "nuid": "d0773bed-7bbe-463a-af84-11cdccfe2ae9",
     "showTitle": false,
     "title": ""
    }
   },
   "outputs": [],
   "source": [
    "group_user = powerappsuser_all.union(security_group_expanded).distinct()"
   ]
  },
  {
   "cell_type": "markdown",
   "metadata": {
    "application/vnd.databricks.v1+cell": {
     "cellMetadata": {
      "byteLimit": 2048000,
      "rowLimit": 10000
     },
     "inputWidgets": {},
     "nuid": "a6ee53cf-6b4b-41f4-b2b2-286667db8797",
     "showTitle": false,
     "title": ""
    }
   },
   "source": [
    "\n",
    "### Write data in the datalake"
   ]
  },
  {
   "cell_type": "code",
   "execution_count": 0,
   "metadata": {
    "application/vnd.databricks.v1+cell": {
     "cellMetadata": {
      "byteLimit": 2048000,
      "rowLimit": 10000
     },
     "inputWidgets": {},
     "nuid": "980795de-bde9-43b2-91bf-14201b0451b4",
     "showTitle": false,
     "title": ""
    }
   },
   "outputs": [],
   "source": [
    "app_group.write.mode('overwrite').parquet('/mnt/datalake/datalakepowerplatform/gold/coe/app_group')"
   ]
  },
  {
   "cell_type": "code",
   "execution_count": 0,
   "metadata": {
    "application/vnd.databricks.v1+cell": {
     "cellMetadata": {
      "byteLimit": 2048000,
      "rowLimit": 10000
     },
     "inputWidgets": {},
     "nuid": "c2df350f-37b9-4405-8cb0-506e006cc5e2",
     "showTitle": false,
     "title": ""
    }
   },
   "outputs": [
    {
     "output_type": "display_data",
     "data": {
      "text/html": [
       "<style scoped>\n",
       "  .ansiout {\n",
       "    display: block;\n",
       "    unicode-bidi: embed;\n",
       "    white-space: pre-wrap;\n",
       "    word-wrap: break-word;\n",
       "    word-break: break-all;\n",
       "    font-family: \"Menlo\", \"Monaco\", \"Consolas\", \"Ubuntu Mono\", \"Source Code Pro\", monospace;\n",
       "    font-size: 13px;\n",
       "    color: #555;\n",
       "    margin-left: 4px;\n",
       "    line-height: 19px;\n",
       "  }\n",
       "</style>"
      ]
     },
     "metadata": {
      "application/vnd.databricks.v1+output": {
       "arguments": {},
       "data": "",
       "errorSummary": "Cancelled",
       "errorTraceType": "html",
       "metadata": {},
       "type": "ipynbError"
      }
     },
     "output_type": "display_data"
    }
   ],
   "source": [
    "# group_user.write.parquet('/mnt/datalake/datalakepowerplatform/gold/coe/group_user')\n",
    "\n",
    "group_user.write.mode('overwrite').csv('/mnt/datalake/datalakepowerplatform/gold/coe/group_user' , header=True)"
   ]
  },
  {
   "cell_type": "code",
   "execution_count": 0,
   "metadata": {
    "application/vnd.databricks.v1+cell": {
     "cellMetadata": {
      "byteLimit": 2048000,
      "rowLimit": 10000
     },
     "inputWidgets": {},
     "nuid": "06780b21-483b-4c27-8090-fdd9402cd6f9",
     "showTitle": false,
     "title": ""
    }
   },
   "outputs": [
    {
     "output_type": "display_data",
     "data": {
      "text/html": [
       "<style scoped>\n",
       "  .ansiout {\n",
       "    display: block;\n",
       "    unicode-bidi: embed;\n",
       "    white-space: pre-wrap;\n",
       "    word-wrap: break-word;\n",
       "    word-break: break-all;\n",
       "    font-family: \"Menlo\", \"Monaco\", \"Consolas\", \"Ubuntu Mono\", \"Source Code Pro\", monospace;\n",
       "    font-size: 13px;\n",
       "    color: #555;\n",
       "    margin-left: 4px;\n",
       "    line-height: 19px;\n",
       "  }\n",
       "</style>"
      ]
     },
     "metadata": {
      "application/vnd.databricks.v1+output": {
       "arguments": {},
       "data": "",
       "errorSummary": "Command skipped",
       "errorTraceType": "html",
       "metadata": {},
       "type": "ipynbError"
      }
     },
     "output_type": "display_data"
    }
   ],
   "source": [
    "#----------------------------------------------------------------------\n",
    "#\n",
    "#\n",
    "#"
   ]
  },
  {
   "cell_type": "code",
   "execution_count": 0,
   "metadata": {
    "application/vnd.databricks.v1+cell": {
     "cellMetadata": {
      "byteLimit": 2048000,
      "rowLimit": 10000
     },
     "inputWidgets": {},
     "nuid": "c7832788-3493-4ea6-90cb-324e30148fc7",
     "showTitle": false,
     "title": ""
    }
   },
   "outputs": [
    {
     "output_type": "display_data",
     "data": {
      "text/html": [
       "<style scoped>\n",
       "  .ansiout {\n",
       "    display: block;\n",
       "    unicode-bidi: embed;\n",
       "    white-space: pre-wrap;\n",
       "    word-wrap: break-word;\n",
       "    word-break: break-all;\n",
       "    font-family: \"Menlo\", \"Monaco\", \"Consolas\", \"Ubuntu Mono\", \"Source Code Pro\", monospace;\n",
       "    font-size: 13px;\n",
       "    color: #555;\n",
       "    margin-left: 4px;\n",
       "    line-height: 19px;\n",
       "  }\n",
       "</style>"
      ]
     },
     "metadata": {
      "application/vnd.databricks.v1+output": {
       "arguments": {},
       "data": "",
       "errorSummary": "Command skipped",
       "errorTraceType": "html",
       "metadata": {},
       "type": "ipynbError"
      }
     },
     "output_type": "display_data"
    }
   ],
   "source": [
    "# data = [\n",
    "#     ('group1',\n",
    "#      '33e52479-9742-47de-a569-fc3e89cbd416'),\n",
    "#     ('group21',\n",
    "#      '0c8460b5-46fc-4836-823f-f47709edf415')\n",
    "# ]\n",
    "\n",
    "# schema = StructType([\n",
    "#     StructField(\"name\",StringType(),True),\n",
    "#     StructField(\"group\",StringType(),True)\n",
    "# ])\n",
    "\n",
    "# df = spark.createDataFrame(data=data,schema=schema)\n"
   ]
  },
  {
   "cell_type": "code",
   "execution_count": 0,
   "metadata": {
    "application/vnd.databricks.v1+cell": {
     "cellMetadata": {
      "byteLimit": 2048000,
      "rowLimit": 10000
     },
     "inputWidgets": {},
     "nuid": "b8fcad17-cd3e-4fc8-a34e-30c319d3ca32",
     "showTitle": false,
     "title": ""
    }
   },
   "outputs": [
    {
     "output_type": "display_data",
     "data": {
      "text/html": [
       "<style scoped>\n",
       "  .ansiout {\n",
       "    display: block;\n",
       "    unicode-bidi: embed;\n",
       "    white-space: pre-wrap;\n",
       "    word-wrap: break-word;\n",
       "    word-break: break-all;\n",
       "    font-family: \"Menlo\", \"Monaco\", \"Consolas\", \"Ubuntu Mono\", \"Source Code Pro\", monospace;\n",
       "    font-size: 13px;\n",
       "    color: #555;\n",
       "    margin-left: 4px;\n",
       "    line-height: 19px;\n",
       "  }\n",
       "</style>"
      ]
     },
     "metadata": {
      "application/vnd.databricks.v1+output": {
       "arguments": {},
       "data": "",
       "errorSummary": "Command skipped",
       "errorTraceType": "html",
       "metadata": {},
       "type": "ipynbError"
      }
     },
     "output_type": "display_data"
    }
   ],
   "source": [
    "# df = df.select(\n",
    "#     'name',\n",
    "#     'group',\n",
    "#     concat(lit('https://graph.microsoft.com/v1.0/groups/'),col('group'),lit('/transitiveMembers')).alias('url')\n",
    "# )"
   ]
  },
  {
   "cell_type": "code",
   "execution_count": 0,
   "metadata": {
    "application/vnd.databricks.v1+cell": {
     "cellMetadata": {
      "byteLimit": 2048000,
      "rowLimit": 10000
     },
     "inputWidgets": {},
     "nuid": "9ffad3d9-1286-48af-a689-8324649c7a71",
     "showTitle": false,
     "title": ""
    }
   },
   "outputs": [
    {
     "output_type": "display_data",
     "data": {
      "text/html": [
       "<style scoped>\n",
       "  .ansiout {\n",
       "    display: block;\n",
       "    unicode-bidi: embed;\n",
       "    white-space: pre-wrap;\n",
       "    word-wrap: break-word;\n",
       "    word-break: break-all;\n",
       "    font-family: \"Menlo\", \"Monaco\", \"Consolas\", \"Ubuntu Mono\", \"Source Code Pro\", monospace;\n",
       "    font-size: 13px;\n",
       "    color: #555;\n",
       "    margin-left: 4px;\n",
       "    line-height: 19px;\n",
       "  }\n",
       "</style>"
      ]
     },
     "metadata": {
      "application/vnd.databricks.v1+output": {
       "arguments": {},
       "data": "",
       "errorSummary": "Command skipped",
       "errorTraceType": "html",
       "metadata": {},
       "type": "ipynbError"
      }
     },
     "output_type": "display_data"
    }
   ],
   "source": [
    "# df2 = df.withColumn('result', make_graph_call_udf(df.url))"
   ]
  },
  {
   "cell_type": "code",
   "execution_count": 0,
   "metadata": {
    "application/vnd.databricks.v1+cell": {
     "cellMetadata": {
      "byteLimit": 2048000,
      "rowLimit": 10000
     },
     "inputWidgets": {},
     "nuid": "35343f3c-eebf-47b5-85ac-9d979a594730",
     "showTitle": false,
     "title": ""
    }
   },
   "outputs": [
    {
     "output_type": "display_data",
     "data": {
      "text/html": [
       "<style scoped>\n",
       "  .ansiout {\n",
       "    display: block;\n",
       "    unicode-bidi: embed;\n",
       "    white-space: pre-wrap;\n",
       "    word-wrap: break-word;\n",
       "    word-break: break-all;\n",
       "    font-family: \"Menlo\", \"Monaco\", \"Consolas\", \"Ubuntu Mono\", \"Source Code Pro\", monospace;\n",
       "    font-size: 13px;\n",
       "    color: #555;\n",
       "    margin-left: 4px;\n",
       "    line-height: 19px;\n",
       "  }\n",
       "</style>"
      ]
     },
     "metadata": {
      "application/vnd.databricks.v1+output": {
       "arguments": {},
       "data": "",
       "errorSummary": "Command skipped",
       "errorTraceType": "html",
       "metadata": {},
       "type": "ipynbError"
      }
     },
     "output_type": "display_data"
    }
   ],
   "source": [
    "# df2 = df2.select(\n",
    "#     'group',\n",
    "#     explode('result').alias('id')\n",
    "# )"
   ]
  },
  {
   "cell_type": "code",
   "execution_count": 0,
   "metadata": {
    "application/vnd.databricks.v1+cell": {
     "cellMetadata": {
      "byteLimit": 2048000,
      "rowLimit": 10000
     },
     "inputWidgets": {},
     "nuid": "bc97e4a3-3cbf-4e77-93af-ae1d337aada3",
     "showTitle": false,
     "title": ""
    }
   },
   "outputs": [
    {
     "output_type": "display_data",
     "data": {
      "text/html": [
       "<style scoped>\n",
       "  .ansiout {\n",
       "    display: block;\n",
       "    unicode-bidi: embed;\n",
       "    white-space: pre-wrap;\n",
       "    word-wrap: break-word;\n",
       "    word-break: break-all;\n",
       "    font-family: \"Menlo\", \"Monaco\", \"Consolas\", \"Ubuntu Mono\", \"Source Code Pro\", monospace;\n",
       "    font-size: 13px;\n",
       "    color: #555;\n",
       "    margin-left: 4px;\n",
       "    line-height: 19px;\n",
       "  }\n",
       "</style>"
      ]
     },
     "metadata": {
      "application/vnd.databricks.v1+output": {
       "arguments": {},
       "data": "",
       "errorSummary": "Command skipped",
       "errorTraceType": "html",
       "metadata": {},
       "type": "ipynbError"
      }
     },
     "output_type": "display_data"
    }
   ],
   "source": [
    "# df2.write.mode('overwrite').parquet('/mnt/datalake/datalakepowerplatform/gold/coe/df2')"
   ]
  },
  {
   "cell_type": "code",
   "execution_count": 0,
   "metadata": {
    "application/vnd.databricks.v1+cell": {
     "cellMetadata": {
      "byteLimit": 2048000,
      "rowLimit": 10000
     },
     "inputWidgets": {},
     "nuid": "7a92c482-b709-4dd6-aa4f-e556d04c3759",
     "showTitle": false,
     "title": ""
    }
   },
   "outputs": [
    {
     "output_type": "display_data",
     "data": {
      "text/html": [
       "<style scoped>\n",
       "  .ansiout {\n",
       "    display: block;\n",
       "    unicode-bidi: embed;\n",
       "    white-space: pre-wrap;\n",
       "    word-wrap: break-word;\n",
       "    word-break: break-all;\n",
       "    font-family: \"Menlo\", \"Monaco\", \"Consolas\", \"Ubuntu Mono\", \"Source Code Pro\", monospace;\n",
       "    font-size: 13px;\n",
       "    color: #555;\n",
       "    margin-left: 4px;\n",
       "    line-height: 19px;\n",
       "  }\n",
       "</style>"
      ]
     },
     "metadata": {
      "application/vnd.databricks.v1+output": {
       "arguments": {},
       "data": "",
       "errorSummary": "Command skipped",
       "errorTraceType": "html",
       "metadata": {},
       "type": "ipynbError"
      }
     },
     "output_type": "display_data"
    }
   ],
   "source": [
    "# # Criar uma Spark session\n",
    "# spark = SparkSession.builder.appName(\"example\").getOrCreate()\n",
    "\n",
    "# rows = powerappsuser_group.collect()\n",
    "\n",
    "# for item in rows:\n",
    "#     results = make_graph_call(item.url)\n",
    "\n",
    "#     if results:\n",
    "#         # Criar DataFrame com colunas 'id' e 'group'\n",
    "#         result_df = spark.createDataFrame([(result, item.group) for result in results], [\"id\", \"group\"])\n",
    "\n",
    "#         # Obter o nome do grupo\n",
    "#         group = item.group\n",
    "\n",
    "#         # Gravar o DataFrame no Data Lake\n",
    "#         result_df.write.mode('overwrite').parquet(f'/mnt/datalake/datalakepowerplatform/gold/coe/df2/{group}_result')\n"
   ]
  },
  {
   "cell_type": "code",
   "execution_count": 0,
   "metadata": {
    "application/vnd.databricks.v1+cell": {
     "cellMetadata": {
      "byteLimit": 2048000,
      "rowLimit": 10000
     },
     "inputWidgets": {},
     "nuid": "038924e3-f58a-420a-96e2-0f36e3eee8a3",
     "showTitle": false,
     "title": ""
    }
   },
   "outputs": [
    {
     "output_type": "display_data",
     "data": {
      "text/html": [
       "<style scoped>\n",
       "  .ansiout {\n",
       "    display: block;\n",
       "    unicode-bidi: embed;\n",
       "    white-space: pre-wrap;\n",
       "    word-wrap: break-word;\n",
       "    word-break: break-all;\n",
       "    font-family: \"Menlo\", \"Monaco\", \"Consolas\", \"Ubuntu Mono\", \"Source Code Pro\", monospace;\n",
       "    font-size: 13px;\n",
       "    color: #555;\n",
       "    margin-left: 4px;\n",
       "    line-height: 19px;\n",
       "  }\n",
       "</style>"
      ]
     },
     "metadata": {
      "application/vnd.databricks.v1+output": {
       "arguments": {},
       "data": "",
       "errorSummary": "Command skipped",
       "errorTraceType": "html",
       "metadata": {},
       "type": "ipynbError"
      }
     },
     "output_type": "display_data"
    }
   ],
   "source": [
    "# # Criar uma Spark session\n",
    "# spark = SparkSession.builder.appName(\"example\").getOrCreate()\n",
    "\n",
    "# # DataFrame principal para armazenar todos os resultados\n",
    "# all_results_df = None\n",
    "\n",
    "# rows = powerappsuser_group.collect()\n",
    "\n",
    "# for item in rows:\n",
    "#     results = make_graph_call(item.url)\n",
    "\n",
    "#     if results:\n",
    "#         # Criar DataFrame com colunas 'id' e 'group'\n",
    "#         current_result_df = spark.createDataFrame([(result, item.group) for result in results], [\"id\", \"group\"])\n",
    "        \n",
    "#         # Se o DataFrame principal não existir, atribuir o atual, senão, fazer a união (append)\n",
    "#         if all_results_df is None:\n",
    "#             all_results_df = current_result_df\n",
    "#         else:\n",
    "#             all_results_df = all_results_df.union(current_result_df)\n",
    "\n"
   ]
  }
 ],
 "metadata": {
  "application/vnd.databricks.v1+notebook": {
   "dashboards": [],
   "language": "python",
   "notebookMetadata": {
    "pythonIndentUnit": 4
   },
   "notebookName": "groups_api",
   "widgets": {}
  }
 },
 "nbformat": 4,
 "nbformat_minor": 0
}
